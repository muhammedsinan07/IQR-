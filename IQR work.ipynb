{
 "cells": [
  {
   "cell_type": "code",
   "execution_count": 26,
   "id": "7653c0c9",
   "metadata": {},
   "outputs": [],
   "source": [
    "import pandas as pd\n",
    "import numpy as np\n",
    "import scipy as sp\n",
    "import seaborn as sns\n",
    "import matplotlib.pyplot as plt"
   ]
  },
  {
   "cell_type": "markdown",
   "id": "c1a5eef4",
   "metadata": {},
   "source": [
    "- create box and whisker plot on top of housing dataset,tips,randomly pick one dataset from kaggle and perform the same\n",
    "- try different combination of features in order to find the outliers and interpret properly\n",
    "- findout the different quartiles and QCD of 3 different datasets(when dealing with quantiles consider taking 5 different features)\n",
    "- Final output should contain your visualizations, statistical calculation(numbers), your findings and your conclusions about your findings\n",
    "- **Try to understand the data clearly**"
   ]
  },
  {
   "cell_type": "markdown",
   "id": "e6568f9c",
   "metadata": {},
   "source": [
    "##### Housing data"
   ]
  },
  {
   "cell_type": "code",
   "execution_count": 103,
   "id": "7160ff5a",
   "metadata": {},
   "outputs": [],
   "source": [
    "housing = pd.read_csv('C:\\data analytics\\pandas_docs/housing2 (1).csv')\n",
    "tips = pd.read_csv('C:\\data analytics\\pandas_docs/tips.csv')\n",
    "phones = pd.read_csv('C:\\data analytics\\pandas_docs/Mobile phone price.csv')"
   ]
  },
  {
   "cell_type": "code",
   "execution_count": 35,
   "id": "d2333419",
   "metadata": {
    "scrolled": true
   },
   "outputs": [
    {
     "data": {
      "text/html": [
       "<div>\n",
       "<style scoped>\n",
       "    .dataframe tbody tr th:only-of-type {\n",
       "        vertical-align: middle;\n",
       "    }\n",
       "\n",
       "    .dataframe tbody tr th {\n",
       "        vertical-align: top;\n",
       "    }\n",
       "\n",
       "    .dataframe thead th {\n",
       "        text-align: right;\n",
       "    }\n",
       "</style>\n",
       "<table border=\"1\" class=\"dataframe\">\n",
       "  <thead>\n",
       "    <tr style=\"text-align: right;\">\n",
       "      <th></th>\n",
       "      <th>longitude</th>\n",
       "      <th>latitude</th>\n",
       "      <th>housing_median_age</th>\n",
       "      <th>total_rooms</th>\n",
       "      <th>total_bedrooms</th>\n",
       "      <th>population</th>\n",
       "      <th>households</th>\n",
       "      <th>median_income</th>\n",
       "      <th>median_house_value</th>\n",
       "      <th>ocean_proximity</th>\n",
       "      <th>gender</th>\n",
       "    </tr>\n",
       "  </thead>\n",
       "  <tbody>\n",
       "    <tr>\n",
       "      <th>0</th>\n",
       "      <td>-122.23</td>\n",
       "      <td>37.88</td>\n",
       "      <td>41.0</td>\n",
       "      <td>880</td>\n",
       "      <td>129.0</td>\n",
       "      <td>322.0</td>\n",
       "      <td>126</td>\n",
       "      <td>8.3252</td>\n",
       "      <td>452600</td>\n",
       "      <td>NEAR BAY</td>\n",
       "      <td>male</td>\n",
       "    </tr>\n",
       "    <tr>\n",
       "      <th>1</th>\n",
       "      <td>-122.22</td>\n",
       "      <td>37.86</td>\n",
       "      <td>21.0</td>\n",
       "      <td>7099</td>\n",
       "      <td>1106.0</td>\n",
       "      <td>2401.0</td>\n",
       "      <td>1138</td>\n",
       "      <td>8.3014</td>\n",
       "      <td>358500</td>\n",
       "      <td>NEAR BAY</td>\n",
       "      <td>female</td>\n",
       "    </tr>\n",
       "    <tr>\n",
       "      <th>2</th>\n",
       "      <td>-122.24</td>\n",
       "      <td>37.85</td>\n",
       "      <td>52.0</td>\n",
       "      <td>1467</td>\n",
       "      <td>190.0</td>\n",
       "      <td>496.0</td>\n",
       "      <td>177</td>\n",
       "      <td>7.2574</td>\n",
       "      <td>352100</td>\n",
       "      <td>NEAR BAY</td>\n",
       "      <td>male</td>\n",
       "    </tr>\n",
       "    <tr>\n",
       "      <th>3</th>\n",
       "      <td>-122.25</td>\n",
       "      <td>37.85</td>\n",
       "      <td>52.0</td>\n",
       "      <td>1274</td>\n",
       "      <td>235.0</td>\n",
       "      <td>558.0</td>\n",
       "      <td>219</td>\n",
       "      <td>5.6431</td>\n",
       "      <td>341300</td>\n",
       "      <td>NEAR BAY</td>\n",
       "      <td>female</td>\n",
       "    </tr>\n",
       "    <tr>\n",
       "      <th>17</th>\n",
       "      <td>-122.27</td>\n",
       "      <td>37.85</td>\n",
       "      <td>52.0</td>\n",
       "      <td>1228</td>\n",
       "      <td>293.0</td>\n",
       "      <td>648.0</td>\n",
       "      <td>303</td>\n",
       "      <td>2.1202</td>\n",
       "      <td>155500</td>\n",
       "      <td>NEAR BAY</td>\n",
       "      <td>female</td>\n",
       "    </tr>\n",
       "  </tbody>\n",
       "</table>\n",
       "</div>"
      ],
      "text/plain": [
       "    longitude  latitude  housing_median_age  total_rooms  total_bedrooms  \\\n",
       "0     -122.23     37.88                41.0          880           129.0   \n",
       "1     -122.22     37.86                21.0         7099          1106.0   \n",
       "2     -122.24     37.85                52.0         1467           190.0   \n",
       "3     -122.25     37.85                52.0         1274           235.0   \n",
       "17    -122.27     37.85                52.0         1228           293.0   \n",
       "\n",
       "    population households  median_income  median_house_value ocean_proximity  \\\n",
       "0        322.0        126         8.3252              452600        NEAR BAY   \n",
       "1       2401.0       1138         8.3014              358500        NEAR BAY   \n",
       "2        496.0        177         7.2574              352100        NEAR BAY   \n",
       "3        558.0        219         5.6431              341300        NEAR BAY   \n",
       "17       648.0        303         2.1202              155500        NEAR BAY   \n",
       "\n",
       "    gender  \n",
       "0     male  \n",
       "1   female  \n",
       "2     male  \n",
       "3   female  \n",
       "17  female  "
      ]
     },
     "execution_count": 35,
     "metadata": {},
     "output_type": "execute_result"
    }
   ],
   "source": [
    "housing.head()"
   ]
  },
  {
   "cell_type": "code",
   "execution_count": 33,
   "id": "90297f84",
   "metadata": {},
   "outputs": [],
   "source": [
    "housing.dropna(inplace=True)"
   ]
  },
  {
   "cell_type": "code",
   "execution_count": 34,
   "id": "20ed2d28",
   "metadata": {},
   "outputs": [
    {
     "data": {
      "text/plain": [
       "longitude             0\n",
       "latitude              0\n",
       "housing_median_age    0\n",
       "total_rooms           0\n",
       "total_bedrooms        0\n",
       "population            0\n",
       "households            0\n",
       "median_income         0\n",
       "median_house_value    0\n",
       "ocean_proximity       0\n",
       "gender                0\n",
       "dtype: int64"
      ]
     },
     "execution_count": 34,
     "metadata": {},
     "output_type": "execute_result"
    }
   ],
   "source": [
    "housing.isnull().sum()"
   ]
  },
  {
   "cell_type": "code",
   "execution_count": 37,
   "id": "d8dbd995",
   "metadata": {
    "scrolled": false
   },
   "outputs": [
    {
     "name": "stderr",
     "output_type": "stream",
     "text": [
      "C:\\Users\\hp\\AppData\\Local\\Temp\\ipykernel_1956\\2577949667.py:1: UserWarning: \n",
      "\n",
      "`distplot` is a deprecated function and will be removed in seaborn v0.14.0.\n",
      "\n",
      "Please adapt your code to use either `displot` (a figure-level function with\n",
      "similar flexibility) or `histplot` (an axes-level function for histograms).\n",
      "\n",
      "For a guide to updating your code to use the new functions, please see\n",
      "https://gist.github.com/mwaskom/de44147ed2974457ad6372750bbe5751\n",
      "\n",
      "  sns.distplot(housing['population'])\n"
     ]
    },
    {
     "data": {
      "text/plain": [
       "<Axes: xlabel='population', ylabel='Density'>"
      ]
     },
     "execution_count": 37,
     "metadata": {},
     "output_type": "execute_result"
    },
    {
     "data": {
      "image/png": "[encoded data removed]",
      "text/plain": [
       "<Figure size 640x480 with 1 Axes>"
      ]
     },
     "metadata": {},
     "output_type": "display_data"
    }
   ],
   "source": [
    "sns.distplot(housing['population'])"
   ]
  },
  {
   "cell_type": "code",
   "execution_count": 38,
   "id": "ef6ed8e1",
   "metadata": {},
   "outputs": [
    {
     "data": {
      "text/plain": [
       "3.0"
      ]
     },
     "execution_count": 38,
     "metadata": {},
     "output_type": "execute_result"
    }
   ],
   "source": [
    "housing['population'].quantile(0)"
   ]
  },
  {
   "cell_type": "code",
   "execution_count": 39,
   "id": "642b4a9b",
   "metadata": {},
   "outputs": [
    {
     "data": {
      "text/plain": [
       "3.0"
      ]
     },
     "execution_count": 39,
     "metadata": {},
     "output_type": "execute_result"
    }
   ],
   "source": [
    "housing['population'].min()"
   ]
  },
  {
   "cell_type": "markdown",
   "id": "d115361c",
   "metadata": {},
   "source": [
    "- 3.0 is the minimum value of population\n",
    "- quantile(0) = min value"
   ]
  },
  {
   "cell_type": "code",
   "execution_count": 40,
   "id": "8b011c28",
   "metadata": {},
   "outputs": [
    {
     "data": {
      "text/plain": [
       "780.0"
      ]
     },
     "execution_count": 40,
     "metadata": {},
     "output_type": "execute_result"
    }
   ],
   "source": [
    "housing['population'].quantile(0.25)"
   ]
  },
  {
   "cell_type": "markdown",
   "id": "2d127321",
   "metadata": {},
   "source": [
    "- Q1\n",
    "- This is the 25th % value of the population in the housing data"
   ]
  },
  {
   "cell_type": "code",
   "execution_count": 41,
   "id": "a10e3901",
   "metadata": {},
   "outputs": [
    {
     "data": {
      "text/plain": [
       "1145.0"
      ]
     },
     "execution_count": 41,
     "metadata": {},
     "output_type": "execute_result"
    }
   ],
   "source": [
    "housing['population'].quantile(0.5)"
   ]
  },
  {
   "cell_type": "code",
   "execution_count": 42,
   "id": "6edd3215",
   "metadata": {},
   "outputs": [
    {
     "data": {
      "text/plain": [
       "1145.0"
      ]
     },
     "execution_count": 42,
     "metadata": {},
     "output_type": "execute_result"
    }
   ],
   "source": [
    "housing['population'].median()"
   ]
  },
  {
   "cell_type": "markdown",
   "id": "0f05d593",
   "metadata": {},
   "source": [
    "- Q2\n",
    "- This is the 50th % value of the population in the housing data\n",
    "- Q2 = median value"
   ]
  },
  {
   "cell_type": "code",
   "execution_count": 43,
   "id": "6918153a",
   "metadata": {},
   "outputs": [
    {
     "data": {
      "text/plain": [
       "1681.0"
      ]
     },
     "execution_count": 43,
     "metadata": {},
     "output_type": "execute_result"
    }
   ],
   "source": [
    "housing['population'].quantile(0.75)"
   ]
  },
  {
   "cell_type": "markdown",
   "id": "994af45b",
   "metadata": {},
   "source": [
    "- Q3\n",
    "- This is the 75th % value of the population in the housing data"
   ]
  },
  {
   "cell_type": "code",
   "execution_count": 44,
   "id": "2e60b9ac",
   "metadata": {},
   "outputs": [
    {
     "data": {
      "text/plain": [
       "35682.0"
      ]
     },
     "execution_count": 44,
     "metadata": {},
     "output_type": "execute_result"
    }
   ],
   "source": [
    "housing['population'].quantile(1)"
   ]
  },
  {
   "cell_type": "code",
   "execution_count": 45,
   "id": "1907f289",
   "metadata": {},
   "outputs": [
    {
     "data": {
      "text/plain": [
       "35682.0"
      ]
     },
     "execution_count": 45,
     "metadata": {},
     "output_type": "execute_result"
    }
   ],
   "source": [
    "housing['population'].max()"
   ]
  },
  {
   "cell_type": "markdown",
   "id": "c25936ab",
   "metadata": {},
   "source": [
    "- Quantile(1) is max value of population\n",
    "- quantile(1) = max value"
   ]
  },
  {
   "cell_type": "code",
   "execution_count": 46,
   "id": "ea8c2097",
   "metadata": {},
   "outputs": [
    {
     "data": {
      "text/plain": [
       "901.0"
      ]
     },
     "execution_count": 46,
     "metadata": {},
     "output_type": "execute_result"
    }
   ],
   "source": [
    "sp.stats.iqr(housing['population'])"
   ]
  },
  {
   "cell_type": "code",
   "execution_count": 47,
   "id": "8ceb1d7a",
   "metadata": {},
   "outputs": [
    {
     "data": {
      "text/plain": [
       "901.0"
      ]
     },
     "execution_count": 47,
     "metadata": {},
     "output_type": "execute_result"
    }
   ],
   "source": [
    "(housing['population'].quantile(0.75)) - (housing['population'].quantile(0.25))"
   ]
  },
  {
   "cell_type": "markdown",
   "id": "d055a2c8",
   "metadata": {},
   "source": [
    "- **`IQR = Q3- Q1`**"
   ]
  },
  {
   "cell_type": "code",
   "execution_count": 53,
   "id": "60fe465f",
   "metadata": {},
   "outputs": [
    {
     "data": {
      "image/png": "[encoded data removed]",
      "text/plain": [
       "<Figure size 640x480 with 1 Axes>"
      ]
     },
     "metadata": {},
     "output_type": "display_data"
    }
   ],
   "source": [
    "housing.boxplot(by='gender',column=['median_house_value'])\n",
    "\n",
    "plt.show()"
   ]
  },
  {
   "cell_type": "markdown",
   "id": "a4719c22",
   "metadata": {},
   "source": [
    "- There is no outleirs\n",
    "- May be thats the reason of droping na values\n",
    "- Femail is more than the male\n",
    "- Most of the median house value is between 1.2 lakh to 2.9 in the case of of female\n",
    "- In male the median house value is higher in between 1.1 to 2.7"
   ]
  },
  {
   "cell_type": "markdown",
   "id": "ae8592cf",
   "metadata": {},
   "source": [
    "##### Tips data"
   ]
  },
  {
   "cell_type": "code",
   "execution_count": 56,
   "id": "644d68bb",
   "metadata": {},
   "outputs": [
    {
     "data": {
      "text/plain": [
       "total_bill    0\n",
       "tip           0\n",
       "sex           0\n",
       "smoker        0\n",
       "day           0\n",
       "time          0\n",
       "size          0\n",
       "dtype: int64"
      ]
     },
     "execution_count": 56,
     "metadata": {},
     "output_type": "execute_result"
    }
   ],
   "source": [
    "tips.isnull().sum()"
   ]
  },
  {
   "cell_type": "code",
   "execution_count": 57,
   "id": "6ba767bf",
   "metadata": {},
   "outputs": [
    {
     "data": {
      "text/html": [
       "<div>\n",
       "<style scoped>\n",
       "    .dataframe tbody tr th:only-of-type {\n",
       "        vertical-align: middle;\n",
       "    }\n",
       "\n",
       "    .dataframe tbody tr th {\n",
       "        vertical-align: top;\n",
       "    }\n",
       "\n",
       "    .dataframe thead th {\n",
       "        text-align: right;\n",
       "    }\n",
       "</style>\n",
       "<table border=\"1\" class=\"dataframe\">\n",
       "  <thead>\n",
       "    <tr style=\"text-align: right;\">\n",
       "      <th></th>\n",
       "      <th>total_bill</th>\n",
       "      <th>tip</th>\n",
       "      <th>sex</th>\n",
       "      <th>smoker</th>\n",
       "      <th>day</th>\n",
       "      <th>time</th>\n",
       "      <th>size</th>\n",
       "    </tr>\n",
       "  </thead>\n",
       "  <tbody>\n",
       "    <tr>\n",
       "      <th>0</th>\n",
       "      <td>16.99</td>\n",
       "      <td>1.01</td>\n",
       "      <td>Female</td>\n",
       "      <td>No</td>\n",
       "      <td>Sun</td>\n",
       "      <td>Dinner</td>\n",
       "      <td>2</td>\n",
       "    </tr>\n",
       "    <tr>\n",
       "      <th>1</th>\n",
       "      <td>10.34</td>\n",
       "      <td>1.66</td>\n",
       "      <td>Male</td>\n",
       "      <td>No</td>\n",
       "      <td>Sun</td>\n",
       "      <td>Dinner</td>\n",
       "      <td>3</td>\n",
       "    </tr>\n",
       "    <tr>\n",
       "      <th>2</th>\n",
       "      <td>21.01</td>\n",
       "      <td>3.50</td>\n",
       "      <td>Male</td>\n",
       "      <td>No</td>\n",
       "      <td>Sun</td>\n",
       "      <td>Dinner</td>\n",
       "      <td>3</td>\n",
       "    </tr>\n",
       "    <tr>\n",
       "      <th>3</th>\n",
       "      <td>23.68</td>\n",
       "      <td>3.31</td>\n",
       "      <td>Male</td>\n",
       "      <td>No</td>\n",
       "      <td>Sun</td>\n",
       "      <td>Dinner</td>\n",
       "      <td>2</td>\n",
       "    </tr>\n",
       "    <tr>\n",
       "      <th>4</th>\n",
       "      <td>24.59</td>\n",
       "      <td>3.61</td>\n",
       "      <td>Female</td>\n",
       "      <td>No</td>\n",
       "      <td>Sun</td>\n",
       "      <td>Dinner</td>\n",
       "      <td>4</td>\n",
       "    </tr>\n",
       "  </tbody>\n",
       "</table>\n",
       "</div>"
      ],
      "text/plain": [
       "   total_bill   tip     sex smoker  day    time  size\n",
       "0       16.99  1.01  Female     No  Sun  Dinner     2\n",
       "1       10.34  1.66    Male     No  Sun  Dinner     3\n",
       "2       21.01  3.50    Male     No  Sun  Dinner     3\n",
       "3       23.68  3.31    Male     No  Sun  Dinner     2\n",
       "4       24.59  3.61  Female     No  Sun  Dinner     4"
      ]
     },
     "execution_count": 57,
     "metadata": {},
     "output_type": "execute_result"
    }
   ],
   "source": [
    "tips.head()"
   ]
  },
  {
   "cell_type": "code",
   "execution_count": 59,
   "id": "11e16d51",
   "metadata": {},
   "outputs": [
    {
     "data": {
      "text/plain": [
       "1.0"
      ]
     },
     "execution_count": 59,
     "metadata": {},
     "output_type": "execute_result"
    }
   ],
   "source": [
    "tips['tip'].quantile(0)"
   ]
  },
  {
   "cell_type": "code",
   "execution_count": 60,
   "id": "0afef9f1",
   "metadata": {},
   "outputs": [
    {
     "data": {
      "text/plain": [
       "2.0"
      ]
     },
     "execution_count": 60,
     "metadata": {},
     "output_type": "execute_result"
    }
   ],
   "source": [
    "tips['tip'].quantile(0.25)"
   ]
  },
  {
   "cell_type": "code",
   "execution_count": 61,
   "id": "3a67bc43",
   "metadata": {},
   "outputs": [
    {
     "data": {
      "text/plain": [
       "2.9"
      ]
     },
     "execution_count": 61,
     "metadata": {},
     "output_type": "execute_result"
    }
   ],
   "source": [
    "tips['tip'].quantile(0.5)"
   ]
  },
  {
   "cell_type": "code",
   "execution_count": 62,
   "id": "2a585ffa",
   "metadata": {},
   "outputs": [
    {
     "data": {
      "text/plain": [
       "3.5625"
      ]
     },
     "execution_count": 62,
     "metadata": {},
     "output_type": "execute_result"
    }
   ],
   "source": [
    "tips['tip'].quantile(0.75)"
   ]
  },
  {
   "cell_type": "code",
   "execution_count": 63,
   "id": "e4fffce2",
   "metadata": {},
   "outputs": [
    {
     "data": {
      "text/plain": [
       "10.0"
      ]
     },
     "execution_count": 63,
     "metadata": {},
     "output_type": "execute_result"
    }
   ],
   "source": [
    "tips['tip'].quantile(1)"
   ]
  },
  {
   "cell_type": "code",
   "execution_count": 67,
   "id": "3b861634",
   "metadata": {},
   "outputs": [
    {
     "data": {
      "text/plain": [
       "1.5625"
      ]
     },
     "execution_count": 67,
     "metadata": {},
     "output_type": "execute_result"
    }
   ],
   "source": [
    "sp.stats.iqr(tips['tip'])"
   ]
  },
  {
   "cell_type": "markdown",
   "id": "b8fedeae",
   "metadata": {},
   "source": [
    "- **IQR = 1.5625**"
   ]
  },
  {
   "cell_type": "code",
   "execution_count": 69,
   "id": "33b8e0b2",
   "metadata": {},
   "outputs": [
    {
     "data": {
      "image/png": "[encoded data removed]",
      "text/plain": [
       "<Figure size 640x480 with 1 Axes>"
      ]
     },
     "metadata": {},
     "output_type": "display_data"
    }
   ],
   "source": [
    "tips.boxplot(by='smoker',column='total_bill')\n",
    "plt.show()"
   ]
  },
  {
   "cell_type": "markdown",
   "id": "74b23ba1",
   "metadata": {},
   "source": [
    "- Most of the outleirs in the no smoker\n",
    "- There is only one outleir in the smoker\n",
    "- Most of the no smokers total bill in between 10.3 to 20.3\n",
    "- And most of the smokers total bill in between 10.3 to 20.7\n",
    "- Highest bill paid is a smoker and it is greater than 50"
   ]
  },
  {
   "cell_type": "markdown",
   "id": "7c8bda8a",
   "metadata": {},
   "source": [
    "##### Mobile Phone data"
   ]
  },
  {
   "cell_type": "code",
   "execution_count": 104,
   "id": "b41c38fe",
   "metadata": {
    "scrolled": false
   },
   "outputs": [
    {
     "data": {
      "text/html": [
       "<div>\n",
       "<style scoped>\n",
       "    .dataframe tbody tr th:only-of-type {\n",
       "        vertical-align: middle;\n",
       "    }\n",
       "\n",
       "    .dataframe tbody tr th {\n",
       "        vertical-align: top;\n",
       "    }\n",
       "\n",
       "    .dataframe thead th {\n",
       "        text-align: right;\n",
       "    }\n",
       "</style>\n",
       "<table border=\"1\" class=\"dataframe\">\n",
       "  <thead>\n",
       "    <tr style=\"text-align: right;\">\n",
       "      <th></th>\n",
       "      <th>Brand</th>\n",
       "      <th>Model</th>\n",
       "      <th>Storage</th>\n",
       "      <th>RAM</th>\n",
       "      <th>Screen Size (inches)</th>\n",
       "      <th>Camera (MP)</th>\n",
       "      <th>Battery Capacity (mAh)</th>\n",
       "      <th>Price ($)</th>\n",
       "    </tr>\n",
       "  </thead>\n",
       "  <tbody>\n",
       "    <tr>\n",
       "      <th>0</th>\n",
       "      <td>Apple</td>\n",
       "      <td>iPhone 13 Pro</td>\n",
       "      <td>128 GB</td>\n",
       "      <td>6 GB</td>\n",
       "      <td>6.1</td>\n",
       "      <td>12 + 12 + 12</td>\n",
       "      <td>3095</td>\n",
       "      <td>999</td>\n",
       "    </tr>\n",
       "    <tr>\n",
       "      <th>1</th>\n",
       "      <td>Samsung</td>\n",
       "      <td>Galaxy S21 Ultra</td>\n",
       "      <td>256 GB</td>\n",
       "      <td>12 GB</td>\n",
       "      <td>6.8</td>\n",
       "      <td>108 + 10 + 10 + 12</td>\n",
       "      <td>5000</td>\n",
       "      <td>1199</td>\n",
       "    </tr>\n",
       "    <tr>\n",
       "      <th>2</th>\n",
       "      <td>OnePlus</td>\n",
       "      <td>9 Pro</td>\n",
       "      <td>128 GB</td>\n",
       "      <td>8 GB</td>\n",
       "      <td>6.7</td>\n",
       "      <td>48 + 50 + 8 + 2</td>\n",
       "      <td>4500</td>\n",
       "      <td>899</td>\n",
       "    </tr>\n",
       "    <tr>\n",
       "      <th>3</th>\n",
       "      <td>Xiaomi</td>\n",
       "      <td>Redmi Note 10 Pro</td>\n",
       "      <td>128 GB</td>\n",
       "      <td>6 GB</td>\n",
       "      <td>6.67</td>\n",
       "      <td>64 + 8 + 5 + 2</td>\n",
       "      <td>5020</td>\n",
       "      <td>279</td>\n",
       "    </tr>\n",
       "    <tr>\n",
       "      <th>4</th>\n",
       "      <td>Google</td>\n",
       "      <td>Pixel 6</td>\n",
       "      <td>128 GB</td>\n",
       "      <td>8 GB</td>\n",
       "      <td>6.4</td>\n",
       "      <td>50 + 12.2</td>\n",
       "      <td>4614</td>\n",
       "      <td>799</td>\n",
       "    </tr>\n",
       "  </tbody>\n",
       "</table>\n",
       "</div>"
      ],
      "text/plain": [
       "     Brand              Model Storage    RAM  Screen Size (inches)  \\\n",
       "0    Apple      iPhone 13 Pro   128 GB   6 GB                  6.1   \n",
       "1  Samsung   Galaxy S21 Ultra   256 GB  12 GB                  6.8   \n",
       "2  OnePlus              9 Pro   128 GB   8 GB                  6.7   \n",
       "3   Xiaomi  Redmi Note 10 Pro   128 GB   6 GB                 6.67   \n",
       "4   Google            Pixel 6   128 GB   8 GB                  6.4   \n",
       "\n",
       "          Camera (MP)  Battery Capacity (mAh) Price ($)  \n",
       "0        12 + 12 + 12                    3095       999  \n",
       "1  108 + 10 + 10 + 12                    5000      1199  \n",
       "2     48 + 50 + 8 + 2                    4500       899  \n",
       "3      64 + 8 + 5 + 2                    5020       279  \n",
       "4           50 + 12.2                    4614       799  "
      ]
     },
     "execution_count": 104,
     "metadata": {},
     "output_type": "execute_result"
    }
   ],
   "source": [
    "phones.head()"
   ]
  },
  {
   "cell_type": "code",
   "execution_count": 105,
   "id": "7cd307df",
   "metadata": {},
   "outputs": [
    {
     "data": {
      "text/plain": [
       "Brand                     0\n",
       "Model                     0\n",
       "Storage                   0\n",
       "RAM                       0\n",
       "Screen Size (inches)      0\n",
       "Camera (MP)               0\n",
       "Battery Capacity (mAh)    0\n",
       "Price ($)                 0\n",
       "dtype: int64"
      ]
     },
     "execution_count": 105,
     "metadata": {},
     "output_type": "execute_result"
    }
   ],
   "source": [
    "phones.isnull().sum()"
   ]
  },
  {
   "cell_type": "code",
   "execution_count": 107,
   "id": "dd977bd1",
   "metadata": {},
   "outputs": [
    {
     "data": {
      "text/plain": [
       "1821.0"
      ]
     },
     "execution_count": 107,
     "metadata": {},
     "output_type": "execute_result"
    }
   ],
   "source": [
    "phones['Battery Capacity (mAh)'].quantile(0)"
   ]
  },
  {
   "cell_type": "code",
   "execution_count": 119,
   "id": "74ca20f2",
   "metadata": {},
   "outputs": [
    {
     "data": {
      "text/plain": [
       "4300.0"
      ]
     },
     "execution_count": 119,
     "metadata": {},
     "output_type": "execute_result"
    }
   ],
   "source": [
    "phones['Battery Capacity (mAh)'].quantile(0.25)"
   ]
  },
  {
   "cell_type": "code",
   "execution_count": 120,
   "id": "c15acb84",
   "metadata": {},
   "outputs": [
    {
     "data": {
      "text/plain": [
       "5000.0"
      ]
     },
     "execution_count": 120,
     "metadata": {},
     "output_type": "execute_result"
    }
   ],
   "source": [
    "phones['Battery Capacity (mAh)'].quantile(0.5)"
   ]
  },
  {
   "cell_type": "code",
   "execution_count": 121,
   "id": "1ed9e675",
   "metadata": {},
   "outputs": [
    {
     "data": {
      "text/plain": [
       "5000.0"
      ]
     },
     "execution_count": 121,
     "metadata": {},
     "output_type": "execute_result"
    }
   ],
   "source": [
    "phones['Battery Capacity (mAh)'].quantile(0.75)"
   ]
  },
  {
   "cell_type": "code",
   "execution_count": 122,
   "id": "b456d798",
   "metadata": {},
   "outputs": [
    {
     "data": {
      "text/plain": [
       "7000.0"
      ]
     },
     "execution_count": 122,
     "metadata": {},
     "output_type": "execute_result"
    }
   ],
   "source": [
    "phones['Battery Capacity (mAh)'].quantile(1)"
   ]
  },
  {
   "cell_type": "code",
   "execution_count": 123,
   "id": "b16386ac",
   "metadata": {},
   "outputs": [
    {
     "data": {
      "text/plain": [
       "700.0"
      ]
     },
     "execution_count": 123,
     "metadata": {},
     "output_type": "execute_result"
    }
   ],
   "source": [
    "sp.stats.iqr(phones['Battery Capacity (mAh)'])"
   ]
  },
  {
   "cell_type": "markdown",
   "id": "7c09f511",
   "metadata": {},
   "source": [
    "- **IQR = 700**"
   ]
  },
  {
   "cell_type": "code",
   "execution_count": 146,
   "id": "60e9ecee",
   "metadata": {},
   "outputs": [
    {
     "data": {
      "text/plain": [
       "Storage \n",
       "128GB     125\n",
       "128        74\n",
       "128 GB     51\n",
       "64GB       49\n",
       "32GB       27\n",
       "256        23\n",
       "64         18\n",
       "64 GB      16\n",
       "256GB      10\n",
       "256 GB      7\n",
       "32 GB       3\n",
       "512         3\n",
       "32          1\n",
       "Name: count, dtype: int64"
      ]
     },
     "execution_count": 146,
     "metadata": {},
     "output_type": "execute_result"
    }
   ],
   "source": [
    "phones['Storage '].value_counts()"
   ]
  },
  {
   "cell_type": "code",
   "execution_count": 144,
   "id": "04d64e71",
   "metadata": {},
   "outputs": [
    {
     "data": {
      "image/png": "[encoded data removed]",
      "text/plain": [
       "<Figure size 640x480 with 1 Axes>"
      ]
     },
     "metadata": {},
     "output_type": "display_data"
    }
   ],
   "source": [
    "phones.boxplot(by='Storage ',column='Battery Capacity (mAh)')\n",
    "\n",
    "plt.xticks(rotation=45)\n",
    "plt.show()"
   ]
  },
  {
   "cell_type": "markdown",
   "id": "2ced4ef9",
   "metadata": {},
   "source": [
    "- 128 & 128GB phones have the highest mAh (7000)\n",
    "- Most of them have the outleirs \n",
    "- 256Gb,32,32 GB,512,64,64 GB has no outleirs"
   ]
  },
  {
   "cell_type": "code",
   "execution_count": null,
   "id": "3e9c1cb1",
   "metadata": {},
   "outputs": [],
   "source": []
  }
 ],
 "metadata": {
  "kernelspec": {
   "display_name": "Python 3 (ipykernel)",
   "language": "python",
   "name": "python3"
  },
  "language_info": {
   "codemirror_mode": {
    "name": "ipython",
    "version": 3
   },
   "file_extension": ".py",
   "mimetype": "text/x-python",
   "name": "python",
   "nbconvert_exporter": "python",
   "pygments_lexer": "ipython3",
   "version": "3.11.5"
  }
 },
 "nbformat": 4,
 "nbformat_minor": 5
}
